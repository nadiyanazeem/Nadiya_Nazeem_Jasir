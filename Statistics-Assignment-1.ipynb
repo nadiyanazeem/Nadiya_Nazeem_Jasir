{
 "cells": [
  {
   "cell_type": "markdown",
   "id": "4aa0f4ee",
   "metadata": {},
   "source": [
    "# ASSIGNMENT- 1 STATISTICS"
   ]
  },
  {
   "cell_type": "code",
   "execution_count": 1,
   "id": "4320b9c2",
   "metadata": {},
   "outputs": [],
   "source": [
    "import numpy as np\n",
    "import pandas as pd\n",
    "import matplotlib.pyplot as plt\n",
    "import seaborn as sns"
   ]
  },
  {
   "cell_type": "code",
   "execution_count": 2,
   "id": "d864ca46",
   "metadata": {},
   "outputs": [],
   "source": [
    "data=pd.read_csv(r\"C:\\Users\\USER\\Downloads\\Students_Performance.csv\")"
   ]
  },
  {
   "cell_type": "code",
   "execution_count": 3,
   "id": "407e0931",
   "metadata": {},
   "outputs": [
    {
     "name": "stdout",
     "output_type": "stream",
     "text": [
      "<class 'pandas.core.frame.DataFrame'>\n",
      "RangeIndex: 1000 entries, 0 to 999\n",
      "Data columns (total 8 columns):\n",
      " #   Column                       Non-Null Count  Dtype \n",
      "---  ------                       --------------  ----- \n",
      " 0   gender                       1000 non-null   object\n",
      " 1   race/ethnicity               1000 non-null   object\n",
      " 2   parental level of education  1000 non-null   object\n",
      " 3   lunch                        1000 non-null   object\n",
      " 4   test preparation course      1000 non-null   object\n",
      " 5   math score                   1000 non-null   int64 \n",
      " 6   reading score                1000 non-null   int64 \n",
      " 7   writing score                1000 non-null   int64 \n",
      "dtypes: int64(3), object(5)\n",
      "memory usage: 62.6+ KB\n"
     ]
    }
   ],
   "source": [
    "data.info()"
   ]
  },
  {
   "cell_type": "code",
   "execution_count": 4,
   "id": "61310c40",
   "metadata": {},
   "outputs": [
    {
     "data": {
      "text/html": [
       "<div>\n",
       "<style scoped>\n",
       "    .dataframe tbody tr th:only-of-type {\n",
       "        vertical-align: middle;\n",
       "    }\n",
       "\n",
       "    .dataframe tbody tr th {\n",
       "        vertical-align: top;\n",
       "    }\n",
       "\n",
       "    .dataframe thead th {\n",
       "        text-align: right;\n",
       "    }\n",
       "</style>\n",
       "<table border=\"1\" class=\"dataframe\">\n",
       "  <thead>\n",
       "    <tr style=\"text-align: right;\">\n",
       "      <th></th>\n",
       "      <th>gender</th>\n",
       "      <th>race/ethnicity</th>\n",
       "      <th>parental level of education</th>\n",
       "      <th>lunch</th>\n",
       "      <th>test preparation course</th>\n",
       "      <th>math score</th>\n",
       "      <th>reading score</th>\n",
       "      <th>writing score</th>\n",
       "    </tr>\n",
       "  </thead>\n",
       "  <tbody>\n",
       "    <tr>\n",
       "      <th>0</th>\n",
       "      <td>female</td>\n",
       "      <td>group C</td>\n",
       "      <td>some high school</td>\n",
       "      <td>free/reduced</td>\n",
       "      <td>none</td>\n",
       "      <td>0</td>\n",
       "      <td>17</td>\n",
       "      <td>10</td>\n",
       "    </tr>\n",
       "    <tr>\n",
       "      <th>1</th>\n",
       "      <td>female</td>\n",
       "      <td>group B</td>\n",
       "      <td>high school</td>\n",
       "      <td>free/reduced</td>\n",
       "      <td>none</td>\n",
       "      <td>8</td>\n",
       "      <td>24</td>\n",
       "      <td>23</td>\n",
       "    </tr>\n",
       "    <tr>\n",
       "      <th>2</th>\n",
       "      <td>female</td>\n",
       "      <td>group B</td>\n",
       "      <td>some high school</td>\n",
       "      <td>free/reduced</td>\n",
       "      <td>none</td>\n",
       "      <td>18</td>\n",
       "      <td>32</td>\n",
       "      <td>28</td>\n",
       "    </tr>\n",
       "    <tr>\n",
       "      <th>3</th>\n",
       "      <td>female</td>\n",
       "      <td>group B</td>\n",
       "      <td>some college</td>\n",
       "      <td>standard</td>\n",
       "      <td>none</td>\n",
       "      <td>11</td>\n",
       "      <td>38</td>\n",
       "      <td>32</td>\n",
       "    </tr>\n",
       "    <tr>\n",
       "      <th>4</th>\n",
       "      <td>female</td>\n",
       "      <td>group C</td>\n",
       "      <td>some college</td>\n",
       "      <td>free/reduced</td>\n",
       "      <td>none</td>\n",
       "      <td>22</td>\n",
       "      <td>39</td>\n",
       "      <td>33</td>\n",
       "    </tr>\n",
       "  </tbody>\n",
       "</table>\n",
       "</div>"
      ],
      "text/plain": [
       "   gender race/ethnicity parental level of education         lunch  \\\n",
       "0  female        group C            some high school  free/reduced   \n",
       "1  female        group B                 high school  free/reduced   \n",
       "2  female        group B            some high school  free/reduced   \n",
       "3  female        group B                some college      standard   \n",
       "4  female        group C                some college  free/reduced   \n",
       "\n",
       "  test preparation course  math score  reading score  writing score  \n",
       "0                    none           0             17             10  \n",
       "1                    none           8             24             23  \n",
       "2                    none          18             32             28  \n",
       "3                    none          11             38             32  \n",
       "4                    none          22             39             33  "
      ]
     },
     "execution_count": 4,
     "metadata": {},
     "output_type": "execute_result"
    }
   ],
   "source": [
    "data.head()"
   ]
  },
  {
   "cell_type": "markdown",
   "id": "62a3fa25",
   "metadata": {},
   "source": [
    "# a. Find out how many males and females participated in the test.\n"
   ]
  },
  {
   "cell_type": "code",
   "execution_count": 6,
   "id": "64f87238",
   "metadata": {},
   "outputs": [
    {
     "name": "stdout",
     "output_type": "stream",
     "text": [
      "female    518\n",
      "male      482\n",
      "Name: gender, dtype: int64\n"
     ]
    }
   ],
   "source": [
    "gender_counts = data[\"gender\"].value_counts()\n",
    "print(gender_counts)"
   ]
  },
  {
   "cell_type": "markdown",
   "id": "e50e4553",
   "metadata": {},
   "source": [
    "# b. What do you think about the students' parental level of education?"
   ]
  },
  {
   "cell_type": "code",
   "execution_count": 10,
   "id": "2ebb7123",
   "metadata": {},
   "outputs": [
    {
     "name": "stdout",
     "output_type": "stream",
     "text": [
      "\n",
      "Parental Education Counts:\n",
      "some college          226\n",
      "associate's degree    222\n",
      "high school           196\n",
      "some high school      179\n",
      "bachelor's degree     118\n",
      "master's degree        59\n",
      "Name: parental level of education, dtype: int64\n"
     ]
    }
   ],
   "source": [
    "parental_education_counts = data['parental level of education'].value_counts()\n",
    "print(\"\\nParental Education Counts:\")\n",
    "print(parental_education_counts)"
   ]
  },
  {
   "cell_type": "markdown",
   "id": "833227d0",
   "metadata": {},
   "source": [
    "# c.Who scores the most on average for math, reading and writing based on i. Gender"
   ]
  },
  {
   "cell_type": "code",
   "execution_count": 11,
   "id": "77d3464d",
   "metadata": {},
   "outputs": [
    {
     "name": "stdout",
     "output_type": "stream",
     "text": [
      "\n",
      "Average Scores by Gender:\n",
      "        math score  reading score  writing score\n",
      "gender                                          \n",
      "female   63.376448      72.590734      72.467181\n",
      "male     68.821577      65.545643      63.446058\n"
     ]
    },
    {
     "name": "stderr",
     "output_type": "stream",
     "text": [
      "C:\\Users\\USER\\AppData\\Local\\Temp\\ipykernel_18192\\3185096877.py:1: FutureWarning: The default value of numeric_only in DataFrameGroupBy.mean is deprecated. In a future version, numeric_only will default to False. Either specify numeric_only or select only columns which should be valid for the function.\n",
      "  gender_avg_scores = data.groupby('gender').mean()[['math score', 'reading score', 'writing score']]\n"
     ]
    }
   ],
   "source": [
    "gender_avg_scores = data.groupby('gender').mean()[['math score', 'reading score', 'writing score']]\n",
    "print(\"\\nAverage Scores by Gender:\")\n",
    "print(gender_avg_scores)"
   ]
  },
  {
   "cell_type": "markdown",
   "id": "4af83fa1",
   "metadata": {},
   "source": [
    "# c.ii Who scores the most on average for math, reading and writing based on Test preparation course"
   ]
  },
  {
   "cell_type": "code",
   "execution_count": 14,
   "id": "845c34a6",
   "metadata": {},
   "outputs": [
    {
     "name": "stdout",
     "output_type": "stream",
     "text": [
      "\n",
      "Average Scores by Test Preparation Course:\n",
      "                         math score  reading score  writing score\n",
      "test preparation course                                          \n",
      "completed                  69.96648      74.175978      74.684358\n",
      "none                       63.78972      66.417445      64.457944\n"
     ]
    },
    {
     "name": "stderr",
     "output_type": "stream",
     "text": [
      "C:\\Users\\USER\\AppData\\Local\\Temp\\ipykernel_18192\\3879680042.py:1: FutureWarning: The default value of numeric_only in DataFrameGroupBy.mean is deprecated. In a future version, numeric_only will default to False. Either specify numeric_only or select only columns which should be valid for the function.\n",
      "  test_prep_avg_scores = data.groupby('test preparation course').mean()[['math score', 'reading score', 'writing score']]\n"
     ]
    }
   ],
   "source": [
    "test_prep_avg_scores = data.groupby('test preparation course').mean()[['math score', 'reading score', 'writing score']]\n",
    "print(\"\\nAverage Scores by Test Preparation Course:\")\n",
    "print(test_prep_avg_scores)"
   ]
  },
  {
   "cell_type": "markdown",
   "id": "0ee61d69",
   "metadata": {},
   "source": [
    "# d.(i) The scoring variation for math, reading and writing based on Gender"
   ]
  },
  {
   "cell_type": "code",
   "execution_count": 17,
   "id": "71c50711",
   "metadata": {},
   "outputs": [
    {
     "name": "stdout",
     "output_type": "stream",
     "text": [
      "\n",
      "Standard Deviation of Scores by Gender:\n",
      "        math score  reading score  writing score\n",
      "gender                                          \n",
      "female   16.029928      14.411018      14.844842\n",
      "male     14.556411      14.149594      14.227225\n"
     ]
    },
    {
     "name": "stderr",
     "output_type": "stream",
     "text": [
      "C:\\Users\\USER\\AppData\\Local\\Temp\\ipykernel_18192\\1432729079.py:1: FutureWarning: The default value of numeric_only in DataFrameGroupBy.std is deprecated. In a future version, numeric_only will default to False. Either specify numeric_only or select only columns which should be valid for the function.\n",
      "  gender_std_scores = data.groupby('gender').std()[['math score', 'reading score', 'writing score']]\n"
     ]
    }
   ],
   "source": [
    "gender_std_scores = data.groupby('gender').std()[['math score', 'reading score', 'writing score']]\n",
    "print(\"\\nStandard Deviation of Scores by Gender:\")\n",
    "print(gender_std_scores)"
   ]
  },
  {
   "cell_type": "markdown",
   "id": "c9c39875",
   "metadata": {},
   "source": [
    "# d.(ii) The scoring variation for math, reading and writing based on Test preparation course."
   ]
  },
  {
   "cell_type": "code",
   "execution_count": 16,
   "id": "c8fb8aa4",
   "metadata": {},
   "outputs": [
    {
     "name": "stdout",
     "output_type": "stream",
     "text": [
      "\n",
      "Standard Deviation of Scores by Test Preparation Course:\n",
      "                         math score  reading score  writing score\n",
      "test preparation course                                          \n",
      "completed                 14.521847      13.537572      13.236412\n",
      "none                      15.705689      14.608896      15.041667\n"
     ]
    },
    {
     "name": "stderr",
     "output_type": "stream",
     "text": [
      "C:\\Users\\USER\\AppData\\Local\\Temp\\ipykernel_18192\\990143958.py:1: FutureWarning: The default value of numeric_only in DataFrameGroupBy.std is deprecated. In a future version, numeric_only will default to False. Either specify numeric_only or select only columns which should be valid for the function.\n",
      "  test_prep_std_scores = data.groupby('test preparation course').std()[['math score', 'reading score', 'writing score']]\n"
     ]
    }
   ],
   "source": [
    "test_prep_std_scores = data.groupby('test preparation course').std()[['math score', 'reading score', 'writing score']]\n",
    "print(\"\\nStandard Deviation of Scores by Test Preparation Course:\")\n",
    "print(test_prep_std_scores)"
   ]
  },
  {
   "cell_type": "markdown",
   "id": "709debb7",
   "metadata": {},
   "source": [
    "# e. Give bonus points to the top 25% of students based on math score"
   ]
  },
  {
   "cell_type": "code",
   "execution_count": 19,
   "id": "ab3de759",
   "metadata": {},
   "outputs": [],
   "source": [
    "top_25_percent = data['math score'].quantile(0.75)\n",
    "data['bonus points'] = 0  \n",
    "data.loc[data['math score'] >= top_25_percent, 'bonus points'] = 5 \n"
   ]
  },
  {
   "cell_type": "code",
   "execution_count": 20,
   "id": "287c9acd",
   "metadata": {},
   "outputs": [
    {
     "name": "stdout",
     "output_type": "stream",
     "text": [
      "Top 10 Students in Math:\n",
      "     gender race/ethnicity parental level of education         lunch  \\\n",
      "999    male        group E           bachelor's degree      standard   \n",
      "996    male        group A                some college      standard   \n",
      "515  female        group E                some college      standard   \n",
      "517  female        group E          associate's degree      standard   \n",
      "516  female        group E           bachelor's degree      standard   \n",
      "997    male        group D                some college      standard   \n",
      "998    male        group E          associate's degree  free/reduced   \n",
      "995    male        group E                some college      standard   \n",
      "513  female        group E           bachelor's degree      standard   \n",
      "514  female        group E                 high school      standard   \n",
      "\n",
      "    test preparation course  math score  reading score  writing score  \\\n",
      "999               completed         100            100            100   \n",
      "996               completed         100             96             86   \n",
      "515                    none         100             92             97   \n",
      "517                    none         100            100            100   \n",
      "516                    none         100            100            100   \n",
      "997               completed         100             97             99   \n",
      "998               completed         100            100             93   \n",
      "995               completed          99             87             81   \n",
      "513               completed          99            100            100   \n",
      "514                    none          99             93             90   \n",
      "\n",
      "     bonus points  \n",
      "999             5  \n",
      "996             5  \n",
      "515             5  \n",
      "517             5  \n",
      "516             5  \n",
      "997             5  \n",
      "998             5  \n",
      "995             5  \n",
      "513             5  \n",
      "514             5  \n"
     ]
    }
   ],
   "source": [
    "top_10_math_students = data.sort_values(by='math score', ascending=False).head(10)\n",
    "print(\"Top 10 Students in Math:\")\n",
    "print(top_10_math_students)"
   ]
  },
  {
   "cell_type": "code",
   "execution_count": null,
   "id": "11fc2700",
   "metadata": {},
   "outputs": [],
   "source": []
  }
 ],
 "metadata": {
  "kernelspec": {
   "display_name": "Python 3 (ipykernel)",
   "language": "python",
   "name": "python3"
  },
  "language_info": {
   "codemirror_mode": {
    "name": "ipython",
    "version": 3
   },
   "file_extension": ".py",
   "mimetype": "text/x-python",
   "name": "python",
   "nbconvert_exporter": "python",
   "pygments_lexer": "ipython3",
   "version": "3.11.4"
  }
 },
 "nbformat": 4,
 "nbformat_minor": 5
}
